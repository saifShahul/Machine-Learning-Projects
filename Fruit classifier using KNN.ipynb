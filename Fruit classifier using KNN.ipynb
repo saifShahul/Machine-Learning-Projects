{
 "cells": [
  {
   "cell_type": "code",
   "execution_count": 1,
   "id": "35a36b3a",
   "metadata": {
    "_cell_guid": "b1076dfc-b9ad-4769-8c92-a6c4dae69d19",
    "_uuid": "8f2839f25d086af736a60e9eeb907d3b93b6e0e5",
    "execution": {
     "iopub.execute_input": "2023-05-14T17:22:43.043384Z",
     "iopub.status.busy": "2023-05-14T17:22:43.042938Z",
     "iopub.status.idle": "2023-05-14T17:22:43.054751Z",
     "shell.execute_reply": "2023-05-14T17:22:43.054073Z"
    },
    "papermill": {
     "duration": 0.018807,
     "end_time": "2023-05-14T17:22:43.057089",
     "exception": false,
     "start_time": "2023-05-14T17:22:43.038282",
     "status": "completed"
    },
    "tags": []
   },
   "outputs": [
    {
     "name": "stdout",
     "output_type": "stream",
     "text": [
      "/kaggle/input/classify-fruits-fallinter-b2/sample_submission.csv\n",
      "/kaggle/input/classify-fruits-fallinter-b2/fruits_test.csv\n",
      "/kaggle/input/classify-fruits-fallinter-b2/fruits_train.csv\n"
     ]
    }
   ],
   "source": [
    "# This Python 3 environment comes with many helpful analytics libraries installed\n",
    "# It is defined by the kaggle/python Docker image: https://github.com/kaggle/docker-python\n",
    "# For example, here's several helpful packages to load\n",
    "\n",
    "import numpy as np # linear algebra\n",
    "import pandas as pd # data processing, CSV file I/O (e.g. pd.read_csv)\n",
    "\n",
    "# Input data files are available in the read-only \"../input/\" directory\n",
    "# For example, running this (by clicking run or pressing Shift+Enter) will list all files under the input directory\n",
    "\n",
    "import os\n",
    "for dirname, _, filenames in os.walk('/kaggle/input'):\n",
    "    for filename in filenames:\n",
    "        print(os.path.join(dirname, filename))\n",
    "\n",
    "# You can write up to 20GB to the current directory (/kaggle/working/) that gets preserved as output when you create a version using \"Save & Run All\" \n",
    "# You can also write temporary files to /kaggle/temp/, but they won't be saved outside of the current session"
   ]
  },
  {
   "cell_type": "code",
   "execution_count": 2,
   "id": "10a6ee00",
   "metadata": {
    "execution": {
     "iopub.execute_input": "2023-05-14T17:22:43.063994Z",
     "iopub.status.busy": "2023-05-14T17:22:43.063639Z",
     "iopub.status.idle": "2023-05-14T17:22:43.089552Z",
     "shell.execute_reply": "2023-05-14T17:22:43.088218Z"
    },
    "papermill": {
     "duration": 0.032051,
     "end_time": "2023-05-14T17:22:43.091969",
     "exception": false,
     "start_time": "2023-05-14T17:22:43.059918",
     "status": "completed"
    },
    "tags": []
   },
   "outputs": [],
   "source": [
    "train_data = pd.read_csv('/kaggle/input/classify-fruits-fallinter-b2/fruits_train.csv')\n",
    "test_data = pd.read_csv('/kaggle/input/classify-fruits-fallinter-b2/fruits_test.csv')"
   ]
  },
  {
   "cell_type": "code",
   "execution_count": 3,
   "id": "4d05673a",
   "metadata": {
    "execution": {
     "iopub.execute_input": "2023-05-14T17:22:43.099423Z",
     "iopub.status.busy": "2023-05-14T17:22:43.098753Z",
     "iopub.status.idle": "2023-05-14T17:22:43.118084Z",
     "shell.execute_reply": "2023-05-14T17:22:43.116731Z"
    },
    "papermill": {
     "duration": 0.025147,
     "end_time": "2023-05-14T17:22:43.119973",
     "exception": false,
     "start_time": "2023-05-14T17:22:43.094826",
     "status": "completed"
    },
    "tags": []
   },
   "outputs": [],
   "source": [
    "x_train = train_data[['mass', 'width', 'height']].values\n",
    "y_train = train_data['label'].values\n",
    "x_test = test_data[['mass', 'width', 'height']].values"
   ]
  },
  {
   "cell_type": "code",
   "execution_count": 4,
   "id": "b5d5e6cf",
   "metadata": {
    "execution": {
     "iopub.execute_input": "2023-05-14T17:22:43.126656Z",
     "iopub.status.busy": "2023-05-14T17:22:43.126298Z",
     "iopub.status.idle": "2023-05-14T17:22:43.130673Z",
     "shell.execute_reply": "2023-05-14T17:22:43.129880Z"
    },
    "papermill": {
     "duration": 0.009531,
     "end_time": "2023-05-14T17:22:43.132210",
     "exception": false,
     "start_time": "2023-05-14T17:22:43.122679",
     "status": "completed"
    },
    "tags": []
   },
   "outputs": [],
   "source": [
    "def euclidean_distance(x1, x2):\n",
    "    return np.sqrt(np.sum((x1 - x2) ** 2))"
   ]
  },
  {
   "cell_type": "code",
   "execution_count": 5,
   "id": "62d9f239",
   "metadata": {
    "execution": {
     "iopub.execute_input": "2023-05-14T17:22:43.139244Z",
     "iopub.status.busy": "2023-05-14T17:22:43.138886Z",
     "iopub.status.idle": "2023-05-14T17:22:43.144053Z",
     "shell.execute_reply": "2023-05-14T17:22:43.143092Z"
    },
    "papermill": {
     "duration": 0.011694,
     "end_time": "2023-05-14T17:22:43.146566",
     "exception": false,
     "start_time": "2023-05-14T17:22:43.134872",
     "status": "completed"
    },
    "tags": []
   },
   "outputs": [],
   "source": [
    "def get_neighbors(x_train, y_train, x_test, k):\n",
    "    distances = []\n",
    "    for i in range(len(x_train)):\n",
    "        dist = euclidean_distance(x_train[i], x_test)\n",
    "        distances.append((x_train[i], y_train[i], dist))\n",
    "    distances.sort(key=lambda x: x[2])\n",
    "    neighbors = distances[:k]\n",
    "    return neighbors"
   ]
  },
  {
   "cell_type": "code",
   "execution_count": 6,
   "id": "20a11b72",
   "metadata": {
    "execution": {
     "iopub.execute_input": "2023-05-14T17:22:43.153818Z",
     "iopub.status.busy": "2023-05-14T17:22:43.153422Z",
     "iopub.status.idle": "2023-05-14T17:22:43.159266Z",
     "shell.execute_reply": "2023-05-14T17:22:43.158085Z"
    },
    "papermill": {
     "duration": 0.011639,
     "end_time": "2023-05-14T17:22:43.161167",
     "exception": false,
     "start_time": "2023-05-14T17:22:43.149528",
     "status": "completed"
    },
    "tags": []
   },
   "outputs": [],
   "source": [
    "def label_predictions(neighbors):\n",
    "    label_votes = {}\n",
    "    for neighbor in neighbors:\n",
    "        label = neighbor[1]\n",
    "        label_votes[label] = label_votes.get(label, 0) + 1\n",
    "    predicted_label = max(label_votes, key=label_votes.get)\n",
    "    return predicted_label"
   ]
  },
  {
   "cell_type": "code",
   "execution_count": 7,
   "id": "38ab30f4",
   "metadata": {
    "execution": {
     "iopub.execute_input": "2023-05-14T17:22:43.167606Z",
     "iopub.status.busy": "2023-05-14T17:22:43.167266Z",
     "iopub.status.idle": "2023-05-14T17:22:43.173526Z",
     "shell.execute_reply": "2023-05-14T17:22:43.172368Z"
    },
    "papermill": {
     "duration": 0.011836,
     "end_time": "2023-05-14T17:22:43.175555",
     "exception": false,
     "start_time": "2023-05-14T17:22:43.163719",
     "status": "completed"
    },
    "tags": []
   },
   "outputs": [],
   "source": [
    "def k_nearest_neighbors(x_train, y_train, x_test, k):\n",
    "    predictions = []\n",
    "    for i in range(len(x_test)):\n",
    "        neighbors = get_neighbors(x_train, y_train, x_test[i], k)\n",
    "        predicted_label = label_predictions(neighbors)\n",
    "        predictions.append(predicted_label)\n",
    "    return predictions"
   ]
  },
  {
   "cell_type": "code",
   "execution_count": 8,
   "id": "87a523b3",
   "metadata": {
    "execution": {
     "iopub.execute_input": "2023-05-14T17:22:43.183096Z",
     "iopub.status.busy": "2023-05-14T17:22:43.182492Z",
     "iopub.status.idle": "2023-05-14T17:22:43.214622Z",
     "shell.execute_reply": "2023-05-14T17:22:43.213150Z"
    },
    "papermill": {
     "duration": 0.038432,
     "end_time": "2023-05-14T17:22:43.216975",
     "exception": false,
     "start_time": "2023-05-14T17:22:43.178543",
     "status": "completed"
    },
    "tags": []
   },
   "outputs": [
    {
     "name": "stdout",
     "output_type": "stream",
     "text": [
      "Predicted labels: [3, 2, 3, 3, 1, 1, 2, 3, 3, 1, 1, 1, 1, 3]\n",
      "Accuracy: 0.825\n"
     ]
    }
   ],
   "source": [
    "k = 7\n",
    "predictions = k_nearest_neighbors(x_train, y_train, x_test, k)\n",
    "print(\"Predicted labels:\", predictions)\n",
    "predictions_train = k_nearest_neighbors(x_train, y_train, x_train, k)\n",
    "accuracy = np.sum(predictions_train == y_train) / len(y_train)\n",
    "print(\"Accuracy:\", accuracy)\n",
    "#submission=test_data[[\"Id\"]]submissionsubmission[\"Category\"]=predictions\n",
    "output = pd.DataFrame({'ID': test_data.Id, 'Category': predictions})\n",
    "output.to_csv(\"submission.csv\",index=False)"
   ]
  }
 ],
 "metadata": {
  "kernelspec": {
   "display_name": "Python 3",
   "language": "python",
   "name": "python3"
  },
  "language_info": {
   "codemirror_mode": {
    "name": "ipython",
    "version": 3
   },
   "file_extension": ".py",
   "mimetype": "text/x-python",
   "name": "python",
   "nbconvert_exporter": "python",
   "pygments_lexer": "ipython3",
   "version": "3.10.10"
  },
  "papermill": {
   "default_parameters": {},
   "duration": 10.687334,
   "end_time": "2023-05-14T17:22:44.142058",
   "environment_variables": {},
   "exception": null,
   "input_path": "__notebook__.ipynb",
   "output_path": "__notebook__.ipynb",
   "parameters": {},
   "start_time": "2023-05-14T17:22:33.454724",
   "version": "2.4.0"
  }
 },
 "nbformat": 4,
 "nbformat_minor": 5
}
