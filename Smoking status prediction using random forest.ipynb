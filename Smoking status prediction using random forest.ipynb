{
 "cells": [
  {
   "cell_type": "code",
   "execution_count": 1,
   "id": "a491108d",
   "metadata": {
    "_cell_guid": "b1076dfc-b9ad-4769-8c92-a6c4dae69d19",
    "_uuid": "8f2839f25d086af736a60e9eeb907d3b93b6e0e5",
    "execution": {
     "iopub.execute_input": "2023-07-14T02:18:47.942424Z",
     "iopub.status.busy": "2023-07-14T02:18:47.941871Z",
     "iopub.status.idle": "2023-07-14T02:18:47.960392Z",
     "shell.execute_reply": "2023-07-14T02:18:47.959240Z"
    },
    "papermill": {
     "duration": 0.02974,
     "end_time": "2023-07-14T02:18:47.963515",
     "exception": false,
     "start_time": "2023-07-14T02:18:47.933775",
     "status": "completed"
    },
    "tags": []
   },
   "outputs": [
    {
     "name": "stdout",
     "output_type": "stream",
     "text": [
      "/kaggle/input/smoking-status-prediction-b2/sample_submission.csv\n",
      "/kaggle/input/smoking-status-prediction-b2/train.csv\n",
      "/kaggle/input/smoking-status-prediction-b2/test.csv\n"
     ]
    }
   ],
   "source": [
    "# This Python 3 environment comes with many helpful analytics libraries installed\n",
    "# It is defined by the kaggle/python Docker image: https://github.com/kaggle/docker-python\n",
    "# For example, here's several helpful packages to load\n",
    "\n",
    "import numpy as np # linear algebra\n",
    "import pandas as pd # data processing, CSV file I/O (e.g. pd.read_csv)\n",
    "\n",
    "# Input data files are available in the read-only \"../input/\" directory\n",
    "# For example, running this (by clicking run or pressing Shift+Enter) will list all files under the input directory\n",
    "\n",
    "import os\n",
    "for dirname, _, filenames in os.walk('/kaggle/input'):\n",
    "    for filename in filenames:\n",
    "        print(os.path.join(dirname, filename))\n",
    "\n",
    "# You can write up to 20GB to the current directory (/kaggle/working/) that gets preserved as output when you create a version using \"Save & Run All\" \n",
    "# You can also write temporary files to /kaggle/temp/, but they won't be saved outside of the current session"
   ]
  },
  {
   "cell_type": "code",
   "execution_count": 2,
   "id": "20cda291",
   "metadata": {
    "execution": {
     "iopub.execute_input": "2023-07-14T02:18:47.977540Z",
     "iopub.status.busy": "2023-07-14T02:18:47.976857Z",
     "iopub.status.idle": "2023-07-14T02:18:49.762826Z",
     "shell.execute_reply": "2023-07-14T02:18:49.761879Z"
    },
    "papermill": {
     "duration": 1.795855,
     "end_time": "2023-07-14T02:18:49.765545",
     "exception": false,
     "start_time": "2023-07-14T02:18:47.969690",
     "status": "completed"
    },
    "tags": []
   },
   "outputs": [
    {
     "name": "stderr",
     "output_type": "stream",
     "text": [
      "/opt/conda/lib/python3.10/site-packages/scipy/__init__.py:146: UserWarning: A NumPy version >=1.16.5 and <1.23.0 is required for this version of SciPy (detected version 1.23.5\n",
      "  warnings.warn(f\"A NumPy version >={np_minversion} and <{np_maxversion}\"\n"
     ]
    }
   ],
   "source": [
    "from sklearn.ensemble import RandomForestClassifier, GradientBoostingClassifier\n",
    "from sklearn.model_selection import train_test_split\n",
    "from sklearn.metrics import accuracy_score\n",
    "from sklearn.preprocessing import StandardScaler\n"
   ]
  },
  {
   "cell_type": "code",
   "execution_count": 3,
   "id": "bc72012b",
   "metadata": {
    "execution": {
     "iopub.execute_input": "2023-07-14T02:18:49.779690Z",
     "iopub.status.busy": "2023-07-14T02:18:49.778776Z",
     "iopub.status.idle": "2023-07-14T02:18:50.090329Z",
     "shell.execute_reply": "2023-07-14T02:18:50.089141Z"
    },
    "papermill": {
     "duration": 0.322239,
     "end_time": "2023-07-14T02:18:50.093751",
     "exception": false,
     "start_time": "2023-07-14T02:18:49.771512",
     "status": "completed"
    },
    "tags": []
   },
   "outputs": [],
   "source": [
    "train = pd.read_csv(\"/kaggle/input/smoking-status-prediction-b2/train.csv\", index_col=0)\n",
    "test = pd.read_csv(\"/kaggle/input/smoking-status-prediction-b2/test.csv\", index_col=0)"
   ]
  },
  {
   "cell_type": "code",
   "execution_count": 4,
   "id": "755c53ff",
   "metadata": {
    "execution": {
     "iopub.execute_input": "2023-07-14T02:18:50.107442Z",
     "iopub.status.busy": "2023-07-14T02:18:50.106988Z",
     "iopub.status.idle": "2023-07-14T02:18:50.124789Z",
     "shell.execute_reply": "2023-07-14T02:18:50.123219Z"
    },
    "papermill": {
     "duration": 0.028096,
     "end_time": "2023-07-14T02:18:50.127890",
     "exception": false,
     "start_time": "2023-07-14T02:18:50.099794",
     "status": "completed"
    },
    "tags": []
   },
   "outputs": [],
   "source": [
    "x_train = train.drop(\"smoking\", axis=1)\n",
    "y_train = train['smoking']"
   ]
  },
  {
   "cell_type": "code",
   "execution_count": 5,
   "id": "0316706f",
   "metadata": {
    "execution": {
     "iopub.execute_input": "2023-07-14T02:18:50.142047Z",
     "iopub.status.busy": "2023-07-14T02:18:50.141655Z",
     "iopub.status.idle": "2023-07-14T02:18:50.147981Z",
     "shell.execute_reply": "2023-07-14T02:18:50.146567Z"
    },
    "papermill": {
     "duration": 0.017052,
     "end_time": "2023-07-14T02:18:50.151089",
     "exception": false,
     "start_time": "2023-07-14T02:18:50.134037",
     "status": "completed"
    },
    "tags": []
   },
   "outputs": [],
   "source": [
    "x_val = test"
   ]
  },
  {
   "cell_type": "code",
   "execution_count": 6,
   "id": "22493258",
   "metadata": {
    "execution": {
     "iopub.execute_input": "2023-07-14T02:18:50.165444Z",
     "iopub.status.busy": "2023-07-14T02:18:50.165032Z",
     "iopub.status.idle": "2023-07-14T02:18:50.204917Z",
     "shell.execute_reply": "2023-07-14T02:18:50.203554Z"
    },
    "papermill": {
     "duration": 0.050269,
     "end_time": "2023-07-14T02:18:50.207727",
     "exception": false,
     "start_time": "2023-07-14T02:18:50.157458",
     "status": "completed"
    },
    "tags": []
   },
   "outputs": [],
   "source": [
    "x_train = pd.get_dummies(x_train)\n",
    "x_val = pd.get_dummies(x_val)"
   ]
  },
  {
   "cell_type": "code",
   "execution_count": 7,
   "id": "44b3f26b",
   "metadata": {
    "execution": {
     "iopub.execute_input": "2023-07-14T02:18:50.220852Z",
     "iopub.status.busy": "2023-07-14T02:18:50.220452Z",
     "iopub.status.idle": "2023-07-14T02:18:50.237856Z",
     "shell.execute_reply": "2023-07-14T02:18:50.236549Z"
    },
    "papermill": {
     "duration": 0.027264,
     "end_time": "2023-07-14T02:18:50.240694",
     "exception": false,
     "start_time": "2023-07-14T02:18:50.213430",
     "status": "completed"
    },
    "tags": []
   },
   "outputs": [],
   "source": [
    "x_train, x_val = x_train.align(x_val, join='outer', axis=1)\n"
   ]
  },
  {
   "cell_type": "code",
   "execution_count": 8,
   "id": "5cc65f40",
   "metadata": {
    "execution": {
     "iopub.execute_input": "2023-07-14T02:18:50.256410Z",
     "iopub.status.busy": "2023-07-14T02:18:50.256004Z",
     "iopub.status.idle": "2023-07-14T02:18:50.299835Z",
     "shell.execute_reply": "2023-07-14T02:18:50.298147Z"
    },
    "papermill": {
     "duration": 0.055091,
     "end_time": "2023-07-14T02:18:50.303066",
     "exception": false,
     "start_time": "2023-07-14T02:18:50.247975",
     "status": "completed"
    },
    "tags": []
   },
   "outputs": [],
   "source": [
    "scaler = StandardScaler()\n",
    "x_train = scaler.fit_transform(x_train)\n",
    "x_val = scaler.transform(x_val)\n"
   ]
  },
  {
   "cell_type": "code",
   "execution_count": 9,
   "id": "7ecdd3d5",
   "metadata": {
    "execution": {
     "iopub.execute_input": "2023-07-14T02:18:50.319745Z",
     "iopub.status.busy": "2023-07-14T02:18:50.319363Z",
     "iopub.status.idle": "2023-07-14T02:18:50.324686Z",
     "shell.execute_reply": "2023-07-14T02:18:50.323527Z"
    },
    "papermill": {
     "duration": 0.017632,
     "end_time": "2023-07-14T02:18:50.327274",
     "exception": false,
     "start_time": "2023-07-14T02:18:50.309642",
     "status": "completed"
    },
    "tags": []
   },
   "outputs": [],
   "source": [
    "models = [RandomForestClassifier(), GradientBoostingClassifier()]"
   ]
  },
  {
   "cell_type": "code",
   "execution_count": 10,
   "id": "7053234a",
   "metadata": {
    "execution": {
     "iopub.execute_input": "2023-07-14T02:18:50.341086Z",
     "iopub.status.busy": "2023-07-14T02:18:50.340691Z",
     "iopub.status.idle": "2023-07-14T02:18:50.346908Z",
     "shell.execute_reply": "2023-07-14T02:18:50.345057Z"
    },
    "papermill": {
     "duration": 0.016551,
     "end_time": "2023-07-14T02:18:50.349706",
     "exception": false,
     "start_time": "2023-07-14T02:18:50.333155",
     "status": "completed"
    },
    "tags": []
   },
   "outputs": [],
   "source": [
    "results = {}"
   ]
  },
  {
   "cell_type": "code",
   "execution_count": 11,
   "id": "2f5a1d6a",
   "metadata": {
    "execution": {
     "iopub.execute_input": "2023-07-14T02:18:50.362710Z",
     "iopub.status.busy": "2023-07-14T02:18:50.362306Z",
     "iopub.status.idle": "2023-07-14T02:19:14.046322Z",
     "shell.execute_reply": "2023-07-14T02:19:14.045203Z"
    },
    "papermill": {
     "duration": 23.693748,
     "end_time": "2023-07-14T02:19:14.049068",
     "exception": false,
     "start_time": "2023-07-14T02:18:50.355320",
     "status": "completed"
    },
    "tags": []
   },
   "outputs": [],
   "source": [
    "for model in models:\n",
    "   name = model.__class__.__name__\n",
    "   model.fit(x_train, y_train)\n",
    "   pred = model.predict(x_val)\n",
    "   accuracy = accuracy_score(y_train, model.predict(x_train))\n",
    "   results[name] = {'accuracy': accuracy, 'pred': pred}\n"
   ]
  },
  {
   "cell_type": "code",
   "execution_count": 12,
   "id": "d289384e",
   "metadata": {
    "execution": {
     "iopub.execute_input": "2023-07-14T02:19:14.062445Z",
     "iopub.status.busy": "2023-07-14T02:19:14.062028Z",
     "iopub.status.idle": "2023-07-14T02:19:14.068542Z",
     "shell.execute_reply": "2023-07-14T02:19:14.067664Z"
    },
    "papermill": {
     "duration": 0.016954,
     "end_time": "2023-07-14T02:19:14.071663",
     "exception": false,
     "start_time": "2023-07-14T02:19:14.054709",
     "status": "completed"
    },
    "tags": []
   },
   "outputs": [
    {
     "name": "stdout",
     "output_type": "stream",
     "text": [
      "RandomForestClassifier: Accuracy = 1.0\n",
      "Predicted values: [0 0 1 ... 0 1 0]\n",
      "GradientBoostingClassifier: Accuracy = 0.77465\n",
      "Predicted values: [0 0 1 ... 0 1 0]\n"
     ]
    }
   ],
   "source": [
    "for model, metrics in results.items():\n",
    "   accuracy = metrics['accuracy']\n",
    "   pred = metrics['pred']\n",
    "   print(f\"{model}: Accuracy = {accuracy}\")\n",
    "   print(f\"Predicted values: {pred}\")"
   ]
  },
  {
   "cell_type": "code",
   "execution_count": 13,
   "id": "21c08a08",
   "metadata": {
    "execution": {
     "iopub.execute_input": "2023-07-14T02:19:14.084857Z",
     "iopub.status.busy": "2023-07-14T02:19:14.084447Z",
     "iopub.status.idle": "2023-07-14T02:19:14.094161Z",
     "shell.execute_reply": "2023-07-14T02:19:14.092913Z"
    },
    "papermill": {
     "duration": 0.019693,
     "end_time": "2023-07-14T02:19:14.097050",
     "exception": false,
     "start_time": "2023-07-14T02:19:14.077357",
     "status": "completed"
    },
    "tags": []
   },
   "outputs": [
    {
     "name": "stdout",
     "output_type": "stream",
     "text": [
      "Model with highest accuracy (RandomForestClassifier): [0 0 1 ... 0 1 0]\n"
     ]
    }
   ],
   "source": [
    "best = max(results, key=lambda x: results[x]['accuracy'])\n",
    "print(f\"Model with highest accuracy ({best}): {results[best]['pred']}\")\n"
   ]
  },
  {
   "cell_type": "code",
   "execution_count": 14,
   "id": "ea5af2bb",
   "metadata": {
    "execution": {
     "iopub.execute_input": "2023-07-14T02:19:14.111267Z",
     "iopub.status.busy": "2023-07-14T02:19:14.110541Z",
     "iopub.status.idle": "2023-07-14T02:19:14.116466Z",
     "shell.execute_reply": "2023-07-14T02:19:14.114840Z"
    },
    "papermill": {
     "duration": 0.015985,
     "end_time": "2023-07-14T02:19:14.119022",
     "exception": false,
     "start_time": "2023-07-14T02:19:14.103037",
     "status": "completed"
    },
    "tags": []
   },
   "outputs": [
    {
     "name": "stdout",
     "output_type": "stream",
     "text": [
      "Number of predicted values: 15692\n"
     ]
    }
   ],
   "source": [
    "final = results[best]['pred']\n",
    "print(f\"Number of predicted values: {len(final)}\")\n"
   ]
  },
  {
   "cell_type": "code",
   "execution_count": 15,
   "id": "fbd3144f",
   "metadata": {
    "execution": {
     "iopub.execute_input": "2023-07-14T02:19:14.134165Z",
     "iopub.status.busy": "2023-07-14T02:19:14.133647Z",
     "iopub.status.idle": "2023-07-14T02:19:14.182517Z",
     "shell.execute_reply": "2023-07-14T02:19:14.181322Z"
    },
    "papermill": {
     "duration": 0.059487,
     "end_time": "2023-07-14T02:19:14.185247",
     "exception": false,
     "start_time": "2023-07-14T02:19:14.125760",
     "status": "completed"
    },
    "tags": []
   },
   "outputs": [],
   "source": [
    "output = pd.DataFrame(final)\n",
    "output.index += 1\n",
    "output.index.name = 'id'\n",
    "output.columns = ['smoking']\n",
    "output.to_csv('output.csv')"
   ]
  }
 ],
 "metadata": {
  "kernelspec": {
   "display_name": "Python 3",
   "language": "python",
   "name": "python3"
  },
  "language_info": {
   "codemirror_mode": {
    "name": "ipython",
    "version": 3
   },
   "file_extension": ".py",
   "mimetype": "text/x-python",
   "name": "python",
   "nbconvert_exporter": "python",
   "pygments_lexer": "ipython3",
   "version": "3.10.12"
  },
  "papermill": {
   "default_parameters": {},
   "duration": 39.698513,
   "end_time": "2023-07-14T02:19:15.215798",
   "environment_variables": {},
   "exception": null,
   "input_path": "__notebook__.ipynb",
   "output_path": "__notebook__.ipynb",
   "parameters": {},
   "start_time": "2023-07-14T02:18:35.517285",
   "version": "2.4.0"
  }
 },
 "nbformat": 4,
 "nbformat_minor": 5
}
