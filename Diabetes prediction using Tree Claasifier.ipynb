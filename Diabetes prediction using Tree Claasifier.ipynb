{
 "cells": [
  {
   "cell_type": "code",
   "execution_count": 1,
   "id": "f447bd25",
   "metadata": {
    "_cell_guid": "b1076dfc-b9ad-4769-8c92-a6c4dae69d19",
    "_uuid": "8f2839f25d086af736a60e9eeb907d3b93b6e0e5",
    "execution": {
     "iopub.execute_input": "2023-06-01T16:37:28.306620Z",
     "iopub.status.busy": "2023-06-01T16:37:28.306283Z",
     "iopub.status.idle": "2023-06-01T16:37:28.318898Z",
     "shell.execute_reply": "2023-06-01T16:37:28.318026Z"
    },
    "papermill": {
     "duration": 0.018999,
     "end_time": "2023-06-01T16:37:28.320955",
     "exception": false,
     "start_time": "2023-06-01T16:37:28.301956",
     "status": "completed"
    },
    "tags": []
   },
   "outputs": [
    {
     "name": "stdout",
     "output_type": "stream",
     "text": [
      "/kaggle/input/diabetes-progression-b2/sample_submission.csv\n",
      "/kaggle/input/diabetes-progression-b2/train.csv\n",
      "/kaggle/input/diabetes-progression-b2/test.csv\n"
     ]
    }
   ],
   "source": [
    "# This Python 3 environment comes with many helpful analytics libraries installed\n",
    "# It is defined by the kaggle/python Docker image: https://github.com/kaggle/docker-python\n",
    "# For example, here's several helpful packages to load\n",
    "\n",
    "import numpy as np # linear algebra\n",
    "import pandas as pd # data processing, CSV file I/O (e.g. pd.read_csv)\n",
    "\n",
    "# Input data files are available in the read-only \"../input/\" directory\n",
    "# For example, running this (by clicking run or pressing Shift+Enter) will list all files under the input directory\n",
    "\n",
    "import os\n",
    "for dirname, _, filenames in os.walk('/kaggle/input'):\n",
    "    for filename in filenames:\n",
    "        print(os.path.join(dirname, filename))\n",
    "\n",
    "# You can write up to 20GB to the current directory (/kaggle/working/) that gets preserved as output when you create a version using \"Save & Run All\" \n",
    "# You can also write temporary files to /kaggle/temp/, but they won't be saved outside of the current session"
   ]
  },
  {
   "cell_type": "code",
   "execution_count": 2,
   "id": "8aefd756",
   "metadata": {
    "execution": {
     "iopub.execute_input": "2023-06-01T16:37:28.327312Z",
     "iopub.status.busy": "2023-06-01T16:37:28.326996Z",
     "iopub.status.idle": "2023-06-01T16:37:30.003985Z",
     "shell.execute_reply": "2023-06-01T16:37:30.002375Z"
    },
    "papermill": {
     "duration": 1.683386,
     "end_time": "2023-06-01T16:37:30.006912",
     "exception": false,
     "start_time": "2023-06-01T16:37:28.323526",
     "status": "completed"
    },
    "tags": []
   },
   "outputs": [
    {
     "name": "stdout",
     "output_type": "stream",
     "text": [
      "      ID       age       sex       bmi        bp        s1        s2  \\\n",
      "0      1 -0.023677 -0.044642 -0.015906 -0.012556  0.020446  0.041274   \n",
      "1      2 -0.099961 -0.044642 -0.067641 -0.108957 -0.074494 -0.072712   \n",
      "2      3  0.048974  0.050680 -0.030996 -0.049280  0.049341 -0.004132   \n",
      "3      4 -0.085430  0.050680 -0.022373  0.001215 -0.037344 -0.026366   \n",
      "4      5 -0.078165 -0.044642 -0.040696 -0.081414 -0.100638 -0.112795   \n",
      "..   ...       ...       ...       ...       ...       ...       ...   \n",
      "383  384  0.045341 -0.044642 -0.006206 -0.015999  0.125019  0.125198   \n",
      "384  385 -0.027310  0.050680 -0.007284 -0.040099 -0.011201 -0.013840   \n",
      "385  386 -0.052738 -0.044642  0.071397 -0.074528 -0.015328 -0.001314   \n",
      "386  387  0.067136  0.050680 -0.025607 -0.040099 -0.063487 -0.059873   \n",
      "387  388 -0.020045 -0.044642  0.097264 -0.005671 -0.005697 -0.023861   \n",
      "\n",
      "           s3        s5        s6  \n",
      "0   -0.043401  0.014072 -0.009362  \n",
      "1    0.015505 -0.049868 -0.009362  \n",
      "2    0.133318  0.021311  0.019633  \n",
      "3    0.015505 -0.072128 -0.017646  \n",
      "4    0.022869 -0.020289 -0.050783  \n",
      "..        ...       ...       ...  \n",
      "383  0.019187  0.032433 -0.005220  \n",
      "384  0.059685 -0.082381 -0.025930  \n",
      "385  0.004460 -0.046879  0.003064  \n",
      "386 -0.002903 -0.019197  0.011349  \n",
      "387 -0.021311  0.061686  0.040343  \n",
      "\n",
      "[388 rows x 10 columns]\n"
     ]
    }
   ],
   "source": [
    "\n",
    "import seaborn as sns\n",
    "\n",
    "from sklearn.linear_model import LinearRegression\n",
    "from sklearn.model_selection import train_test_split\n",
    "from sklearn.metrics import mean_absolute_error\n",
    "\n",
    "traindf= pd.read_csv(\"/kaggle/input/diabetes-progression-b2/train.csv\")\n",
    "\n",
    "X_train=traindf[['ID','age','sex','bmi','bp','s1','s2','s3','s5','s6']]\n",
    "print(X_train)\n",
    "Y_train=traindf[['y']]"
   ]
  },
  {
   "cell_type": "code",
   "execution_count": 3,
   "id": "6178beec",
   "metadata": {
    "execution": {
     "iopub.execute_input": "2023-06-01T16:37:30.015456Z",
     "iopub.status.busy": "2023-06-01T16:37:30.015116Z",
     "iopub.status.idle": "2023-06-01T16:37:30.039766Z",
     "shell.execute_reply": "2023-06-01T16:37:30.037948Z"
    },
    "papermill": {
     "duration": 0.031669,
     "end_time": "2023-06-01T16:37:30.042139",
     "exception": false,
     "start_time": "2023-06-01T16:37:30.010470",
     "status": "completed"
    },
    "tags": []
   },
   "outputs": [
    {
     "name": "stdout",
     "output_type": "stream",
     "text": [
      "    ID       age       sex       bmi        bp        s1        s2        s3  \\\n",
      "0    1 -0.023677 -0.044642  0.030440 -0.005671  0.082364  0.092004 -0.017629   \n",
      "1    2  0.005383 -0.044642  0.059541 -0.056166  0.024574  0.052861 -0.043401   \n",
      "2    3  0.012648 -0.044642  0.033673  0.033349  0.030078  0.027183 -0.002903   \n",
      "3    4  0.009016 -0.044642 -0.032073 -0.026328  0.042462 -0.010395  0.159089   \n",
      "4    5  0.023546  0.050680 -0.030996 -0.005671 -0.016704  0.017788 -0.032356   \n",
      "5    6  0.063504  0.050680 -0.025607  0.011544  0.064477  0.048477  0.030232   \n",
      "6    7 -0.041840 -0.044642  0.041218 -0.026328 -0.031840 -0.030437 -0.036038   \n",
      "7    8  0.070769 -0.044642  0.069241  0.037939  0.021822  0.001504 -0.036038   \n",
      "8    9  0.041708  0.050680 -0.015906  0.017282 -0.037344 -0.013840 -0.024993   \n",
      "9   10  0.012648 -0.044642 -0.025607 -0.040099 -0.030464 -0.045155  0.078093   \n",
      "10  11 -0.045472  0.050680 -0.047163 -0.015999 -0.040096 -0.024800  0.000779   \n",
      "11  12 -0.027310 -0.044642 -0.035307 -0.029771 -0.056607 -0.058620  0.030232   \n",
      "12  13  0.023546 -0.044642  0.110198  0.063187  0.013567 -0.032942 -0.024993   \n",
      "13  14 -0.045472  0.050680 -0.024529  0.059744  0.005311  0.014970 -0.054446   \n",
      "14  15 -0.074533  0.050680  0.055229 -0.040099  0.053469  0.053174 -0.043401   \n",
      "15  16 -0.001882  0.050680 -0.024529  0.052858  0.027326  0.030001  0.030232   \n",
      "16  17  0.063504 -0.044642  0.017506  0.021872  0.008063  0.021546 -0.036038   \n",
      "17  18 -0.005515  0.050680 -0.041774 -0.043542 -0.079998 -0.076156 -0.032356   \n",
      "18  19 -0.009147  0.050680  0.001339 -0.002228  0.079612  0.070084  0.033914   \n",
      "19  20  0.059871 -0.044642 -0.000817 -0.084857  0.075484  0.079478  0.004460   \n",
      "20  21  0.001751  0.050680 -0.006206 -0.019442 -0.009825  0.004949 -0.039719   \n",
      "21  22  0.056239  0.050680  0.021817  0.056301 -0.007073  0.018101 -0.032356   \n",
      "22  23  0.041708 -0.044642 -0.007284  0.028758 -0.042848 -0.048286  0.052322   \n",
      "23  24 -0.038207 -0.044642  0.067085 -0.060757 -0.029088 -0.023234 -0.010266   \n",
      "24  25  0.070769 -0.044642 -0.005128 -0.005671  0.087868  0.102965  0.011824   \n",
      "25  26  0.005383  0.050680  0.034751 -0.001080  0.152538  0.198788 -0.061809   \n",
      "26  27  0.009016  0.050680  0.030440  0.042530 -0.002945  0.036890 -0.065491   \n",
      "27  28  0.023546  0.050680 -0.020218 -0.036656 -0.013953 -0.015092  0.059685   \n",
      "28  29 -0.074533 -0.044642 -0.010517 -0.005671 -0.066239 -0.057054 -0.002903   \n",
      "29  30 -0.016412  0.050680  0.002417  0.014987  0.021822 -0.010082 -0.024993   \n",
      "30  31 -0.016412 -0.044642 -0.035307 -0.026328  0.032830  0.017162  0.100183   \n",
      "31  32 -0.070900 -0.044642 -0.004050 -0.040099 -0.066239 -0.078662  0.052322   \n",
      "32  33  0.016281 -0.044642 -0.024529  0.035644 -0.007073 -0.003193 -0.013948   \n",
      "33  34  0.001751 -0.044642 -0.004050 -0.005671 -0.008449 -0.023861  0.052322   \n",
      "34  35 -0.030942 -0.044642  0.005650 -0.009113  0.019070  0.006828  0.074412   \n",
      "35  36  0.034443  0.050680 -0.029918  0.004658  0.093372  0.086994  0.033914   \n",
      "36  37  0.096197 -0.044642  0.051996  0.079254  0.054845  0.036577 -0.076536   \n",
      "37  38 -0.074533 -0.044642  0.043373 -0.033214  0.012191  0.000252  0.063367   \n",
      "38  39 -0.052738 -0.044642 -0.062252 -0.026328 -0.005697 -0.005072  0.030232   \n",
      "39  40  0.009016 -0.044642  0.016428  0.004658  0.009439  0.010586 -0.028674   \n",
      "40  41  0.038076  0.050680 -0.024529  0.004658 -0.026336 -0.026366  0.015505   \n",
      "41  42 -0.096328 -0.044642 -0.076264 -0.043542 -0.045599 -0.034821  0.008142   \n",
      "42  43  0.048974  0.050680  0.088642  0.087287  0.035582  0.021546 -0.024993   \n",
      "43  44  0.045341 -0.044642  0.051996 -0.053871  0.063101  0.064760 -0.010266   \n",
      "44  45  0.030811 -0.044642 -0.020218 -0.005671 -0.004321 -0.029497  0.078093   \n",
      "45  46 -0.020045 -0.044642 -0.084886 -0.026328 -0.035968 -0.034194  0.041277   \n",
      "46  47 -0.045472 -0.044642  0.015350 -0.074528 -0.049727 -0.017284 -0.028674   \n",
      "47  48 -0.052738  0.050680 -0.011595  0.056301  0.056221  0.072902 -0.039719   \n",
      "48  49  0.059871  0.050680  0.053074  0.052858  0.032830  0.019667 -0.010266   \n",
      "49  50  0.041708  0.050680 -0.038540  0.052858  0.076860  0.116430 -0.039719   \n",
      "50  51 -0.009147 -0.044642 -0.062252 -0.074528 -0.023584 -0.013214  0.004460   \n",
      "51  52 -0.096328 -0.044642 -0.036385 -0.074528 -0.038720 -0.027618  0.015505   \n",
      "52  53 -0.030942  0.050680  0.028284  0.070073 -0.126781 -0.106845 -0.054446   \n",
      "53  54  0.001751  0.050680  0.026128 -0.009113  0.024574  0.038456 -0.021311   \n",
      "\n",
      "          s5        s6  \n",
      "0   0.033047  0.003064  \n",
      "1  -0.004220 -0.030072  \n",
      "2   0.031193  0.027917  \n",
      "3  -0.011901 -0.038357  \n",
      "4  -0.074089 -0.034215  \n",
      "5   0.038393  0.019633  \n",
      "6   0.033657 -0.017646  \n",
      "7   0.077633  0.106617  \n",
      "8  -0.046879  0.015491  \n",
      "9  -0.072128  0.011349  \n",
      "10 -0.062913 -0.038357  \n",
      "11 -0.049868 -0.129483  \n",
      "12  0.099240  0.023775  \n",
      "13  0.042345  0.015491  \n",
      "14  0.061238 -0.034215  \n",
      "15 -0.021394  0.036201  \n",
      "16  0.019908  0.011349  \n",
      "17  0.010226 -0.009362  \n",
      "18  0.026714  0.081764  \n",
      "19  0.023375  0.027917  \n",
      "20  0.014823  0.098333  \n",
      "21 -0.023645  0.023775  \n",
      "22 -0.072128  0.023775  \n",
      "23 -0.001499  0.019633  \n",
      "24 -0.008944  0.027917  \n",
      "25  0.015567  0.073480  \n",
      "26 -0.023645  0.015491  \n",
      "27 -0.096433 -0.017646  \n",
      "28 -0.042572 -0.001078  \n",
      "29  0.085533  0.081764  \n",
      "30 -0.070209 -0.079778  \n",
      "31 -0.051401 -0.034215  \n",
      "32  0.015567  0.015491  \n",
      "33 -0.008944 -0.013504  \n",
      "34 -0.041180 -0.042499  \n",
      "35  0.024053 -0.038357  \n",
      "36  0.098646  0.061054  \n",
      "37 -0.027129 -0.046641  \n",
      "38 -0.030751 -0.071494  \n",
      "39  0.038968  0.119043  \n",
      "40 -0.015998 -0.025930  \n",
      "41 -0.059473 -0.083920  \n",
      "42  0.066048  0.131470  \n",
      "43  0.037232  0.019633  \n",
      "44 -0.010904 -0.001078  \n",
      "45 -0.082381 -0.046641  \n",
      "46 -0.104365 -0.075636  \n",
      "47  0.030566 -0.005220  \n",
      "48  0.055205 -0.001078  \n",
      "49 -0.022512 -0.013504  \n",
      "50 -0.035817 -0.046641  \n",
      "51 -0.074089 -0.001078  \n",
      "52 -0.030751  0.015491  \n",
      "53  0.009436  0.003064  \n"
     ]
    }
   ],
   "source": [
    "testdf_1=pd.read_csv(\"/kaggle/input/diabetes-progression-b2/test.csv\")\n",
    "testdf=testdf_1[['ID','age','sex','bmi','bp','s1','s2','s3','s5','s6']]\n",
    "print(testdf)\n",
    "testid=testdf[['ID']]"
   ]
  },
  {
   "cell_type": "code",
   "execution_count": 4,
   "id": "3f3b1e73",
   "metadata": {
    "execution": {
     "iopub.execute_input": "2023-06-01T16:37:30.049167Z",
     "iopub.status.busy": "2023-06-01T16:37:30.048836Z",
     "iopub.status.idle": "2023-06-01T16:37:30.141346Z",
     "shell.execute_reply": "2023-06-01T16:37:30.140496Z"
    },
    "papermill": {
     "duration": 0.099359,
     "end_time": "2023-06-01T16:37:30.144329",
     "exception": false,
     "start_time": "2023-06-01T16:37:30.044970",
     "status": "completed"
    },
    "tags": []
   },
   "outputs": [
    {
     "data": {
      "text/plain": [
       "42.89881757009937"
      ]
     },
     "execution_count": 4,
     "metadata": {},
     "output_type": "execute_result"
    }
   ],
   "source": [
    "from sklearn.model_selection import cross_val_score\n",
    "linreg=LinearRegression()\n",
    "lin_score=cross_val_score(linreg,X_train,Y_train,cv=9,scoring=\"neg_mean_absolute_error\")\n",
    "lin_score_n = -lin_score\n",
    "np.mean(lin_score_n)"
   ]
  },
  {
   "cell_type": "code",
   "execution_count": 5,
   "id": "aec3dc64",
   "metadata": {
    "execution": {
     "iopub.execute_input": "2023-06-01T16:37:30.154130Z",
     "iopub.status.busy": "2023-06-01T16:37:30.153687Z",
     "iopub.status.idle": "2023-06-01T16:37:31.119122Z",
     "shell.execute_reply": "2023-06-01T16:37:31.117978Z"
    },
    "papermill": {
     "duration": 0.972759,
     "end_time": "2023-06-01T16:37:31.121199",
     "exception": false,
     "start_time": "2023-06-01T16:37:30.148440",
     "status": "completed"
    },
    "tags": []
   },
   "outputs": [
    {
     "name": "stderr",
     "output_type": "stream",
     "text": [
      "/tmp/ipykernel_20/1984132077.py:4: DataConversionWarning: A column-vector y was passed when a 1d array was expected. Please change the shape of y to (n_samples,), for example using ravel().\n",
      "  model.fit(X_train,Y_train)\n"
     ]
    },
    {
     "name": "stdout",
     "output_type": "stream",
     "text": [
      "[0.11227182 0.10626561 0.02319754 0.11024843 0.10882787 0.1080059\n",
      " 0.10360884 0.10863501 0.11055497 0.10838401]\n"
     ]
    },
    {
     "data": {
      "image/png": "[encoded data removed]",
      "text/plain": [
       "<Figure size 640x480 with 1 Axes>"
      ]
     },
     "metadata": {},
     "output_type": "display_data"
    }
   ],
   "source": [
    "\n",
    "from sklearn.ensemble import ExtraTreesClassifier\n",
    "import matplotlib.pyplot as plt\n",
    "model = ExtraTreesClassifier()\n",
    "model.fit(X_train,Y_train)\n",
    "print(model.feature_importances_) #use inbuilt class feature_importances of tree based classifiers\n",
    "#plot graph of feature importances for better visualization\n",
    "feat_importances = pd.Series(model.feature_importances_, index=X_train.columns)\n",
    "feat_importances.nlargest(10).plot(kind='barh')\n",
    "plt.show()"
   ]
  },
  {
   "cell_type": "code",
   "execution_count": 6,
   "id": "8bee9be6",
   "metadata": {
    "execution": {
     "iopub.execute_input": "2023-06-01T16:37:31.129227Z",
     "iopub.status.busy": "2023-06-01T16:37:31.128887Z",
     "iopub.status.idle": "2023-06-01T16:37:31.146060Z",
     "shell.execute_reply": "2023-06-01T16:37:31.145257Z"
    },
    "papermill": {
     "duration": 0.023778,
     "end_time": "2023-06-01T16:37:31.148273",
     "exception": false,
     "start_time": "2023-06-01T16:37:31.124495",
     "status": "completed"
    },
    "tags": []
   },
   "outputs": [],
   "source": [
    "linreg.fit(X_train,Y_train)\n",
    "prediction=linreg.predict(testdf)\n",
    "output_list=[]\n",
    "sumx=0\n",
    "for i in prediction:\n",
    "    for j in i:\n",
    "        sumx=sumx+1\n",
    "        output_list.append(j)\n",
    "output=pd.DataFrame({'ID':testdf.ID, 'y':output_list})\n",
    "output\n",
    "output.to_csv('submission.csv', index=False)"
   ]
  }
 ],
 "metadata": {
  "kernelspec": {
   "display_name": "Python 3",
   "language": "python",
   "name": "python3"
  },
  "language_info": {
   "codemirror_mode": {
    "name": "ipython",
    "version": 3
   },
   "file_extension": ".py",
   "mimetype": "text/x-python",
   "name": "python",
   "nbconvert_exporter": "python",
   "pygments_lexer": "ipython3",
   "version": "3.10.10"
  },
  "papermill": {
   "default_parameters": {},
   "duration": 13.210363,
   "end_time": "2023-06-01T16:37:32.072280",
   "environment_variables": {},
   "exception": null,
   "input_path": "__notebook__.ipynb",
   "output_path": "__notebook__.ipynb",
   "parameters": {},
   "start_time": "2023-06-01T16:37:18.861917",
   "version": "2.4.0"
  }
 },
 "nbformat": 4,
 "nbformat_minor": 5
}
